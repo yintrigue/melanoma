{
 "cells": [
  {
   "cell_type": "code",
   "execution_count": 2,
   "metadata": {
    "colab": {
     "base_uri": "https://localhost:8080/",
     "height": 124
    },
    "colab_type": "code",
    "id": "wfiVQsuBPc5b",
    "outputId": "7cff18c1-bd3b-4d80-9057-3a8cd0a9b492"
   },
   "outputs": [
    {
     "name": "stdout",
     "output_type": "stream",
     "text": [
      "Go to this URL in a browser: https://accounts.google.com/o/oauth2/auth?client_id=947318989803-6bn6qk8qdgf4n4g3pfee6491hc0brc4i.apps.googleusercontent.com&redirect_uri=urn%3aietf%3awg%3aoauth%3a2.0%3aoob&response_type=code&scope=email%20https%3a%2f%2fwww.googleapis.com%2fauth%2fdocs.test%20https%3a%2f%2fwww.googleapis.com%2fauth%2fdrive%20https%3a%2f%2fwww.googleapis.com%2fauth%2fdrive.photos.readonly%20https%3a%2f%2fwww.googleapis.com%2fauth%2fpeopleapi.readonly\n",
      "\n",
      "Enter your authorization code:\n",
      "··········\n",
      "Mounted at /content/gdrive\n"
     ]
    }
   ],
   "source": [
    "from google.colab import files\n",
    "from google.colab import drive\n",
    "import os\n",
    "\n",
    "# optional: mount Google Drive\n",
    "drive.mount('/content/gdrive')"
   ]
  },
  {
   "cell_type": "code",
   "execution_count": 3,
   "metadata": {
    "colab": {
     "base_uri": "https://localhost:8080/",
     "height": 69
    },
    "colab_type": "code",
    "id": "Q7-fjD21PrLj",
    "outputId": "49da5d8d-e3b0-4e0c-b4af-83233f1786a5"
   },
   "outputs": [
    {
     "name": "stdout",
     "output_type": "stream",
     "text": [
      "[Errno 2] No such file or directory: '/content/gdrive/My Drive/w207/'\n",
      "/content\n",
      "gdrive\tsample_data\n"
     ]
    }
   ],
   "source": [
    "%cd /content/gdrive/My Drive/w207/\n",
    "!ls"
   ]
  },
  {
   "cell_type": "code",
   "execution_count": 4,
   "metadata": {
    "colab": {
     "base_uri": "https://localhost:8080/",
     "height": 191
    },
    "colab_type": "code",
    "id": "gp26rUS7OFI8",
    "outputId": "4d9c04f3-b4cc-40d1-a3fe-7a2eba3c6949"
   },
   "outputs": [
    {
     "name": "stdout",
     "output_type": "stream",
     "text": [
      "Collecting python-resize-image\n",
      "  Downloading https://files.pythonhosted.org/packages/bc/89/008481c95551992e1a77503eba490b75fd17c0a98e33dd4dc39e0b99e5e8/python_resize_image-1.1.19-py2.py3-none-any.whl\n",
      "Requirement already satisfied: requests>=2.19.1 in /usr/local/lib/python3.6/dist-packages (from python-resize-image) (2.23.0)\n",
      "Requirement already satisfied: Pillow>=5.1.0 in /usr/local/lib/python3.6/dist-packages (from python-resize-image) (7.0.0)\n",
      "Requirement already satisfied: chardet<4,>=3.0.2 in /usr/local/lib/python3.6/dist-packages (from requests>=2.19.1->python-resize-image) (3.0.4)\n",
      "Requirement already satisfied: certifi>=2017.4.17 in /usr/local/lib/python3.6/dist-packages (from requests>=2.19.1->python-resize-image) (2020.6.20)\n",
      "Requirement already satisfied: urllib3!=1.25.0,!=1.25.1,<1.26,>=1.21.1 in /usr/local/lib/python3.6/dist-packages (from requests>=2.19.1->python-resize-image) (1.24.3)\n",
      "Requirement already satisfied: idna<3,>=2.5 in /usr/local/lib/python3.6/dist-packages (from requests>=2.19.1->python-resize-image) (2.10)\n",
      "Installing collected packages: python-resize-image\n",
      "Successfully installed python-resize-image-1.1.19\n"
     ]
    }
   ],
   "source": [
    "!pip install python-resize-image"
   ]
  },
  {
   "cell_type": "code",
   "execution_count": 5,
   "metadata": {
    "colab": {
     "base_uri": "https://localhost:8080/",
     "height": 191
    },
    "colab_type": "code",
    "id": "BHpZX2UNDC4_",
    "outputId": "0143092d-d649-4fee-92d0-0af12fe13db1"
   },
   "outputs": [
    {
     "name": "stdout",
     "output_type": "stream",
     "text": [
      "Collecting git+https://github.com/Soongja/basic-image-eda\n",
      "  Cloning https://github.com/Soongja/basic-image-eda to /tmp/pip-req-build-kk91fgx5\n",
      "  Running command git clone -q https://github.com/Soongja/basic-image-eda /tmp/pip-req-build-kk91fgx5\n",
      "Building wheels for collected packages: basic-image-eda\n",
      "  Building wheel for basic-image-eda (setup.py) ... \u001b[?25l\u001b[?25hdone\n",
      "  Created wheel for basic-image-eda: filename=basic_image_eda-0.0.3-cp36-none-any.whl size=9699 sha256=3c3b0901eb7ff7a263abf68ee07f8cc5e33b6cd7e820c665cd92c9166ce16ed4\n",
      "  Stored in directory: /tmp/pip-ephem-wheel-cache-yt2y4f1l/wheels/99/9a/62/b1003b6a2487fe73d57ccee8081ccacf9ab06ea9f8ddda770c\n",
      "Successfully built basic-image-eda\n",
      "Installing collected packages: basic-image-eda\n",
      "Successfully installed basic-image-eda-0.0.3\n"
     ]
    }
   ],
   "source": [
    "pip install git+https://github.com/Soongja/basic-image-eda"
   ]
  },
  {
   "cell_type": "code",
   "execution_count": 6,
   "metadata": {
    "colab": {
     "base_uri": "https://localhost:8080/",
     "height": 34
    },
    "colab_type": "code",
    "id": "_NbyEgeSQFLU",
    "outputId": "740a667a-b218-4630-e52e-6b24063aa95b"
   },
   "outputs": [
    {
     "name": "stderr",
     "output_type": "stream",
     "text": [
      "Using TensorFlow backend.\n"
     ]
    }
   ],
   "source": [
    "import pandas as pd\n",
    "import numpy as np\n",
    "import matplotlib as plt\n",
    "from pylab import *\n",
    "from PIL import Image\n",
    "from resizeimage import resizeimage\n",
    "from keras.datasets import cifar10\n",
    "from keras.models import Sequential\n",
    "from keras.layers import Dense, Dropout, Conv2D, MaxPool2D, Flatten\n",
    "from keras.utils import np_utils\n",
    "from sklearn.linear_model import LogisticRegression\n",
    "from sklearn.metrics import confusion_matrix\n",
    "from sklearn import metrics\n",
    "from sklearn.metrics import classification_report\n",
    "from sklearn.pipeline import make_pipeline\n",
    "from sklearn.preprocessing import StandardScaler\n",
    "from sklearn.svm import SVC\n",
    "from basic_image_eda import BasicImageEDA"
   ]
  },
  {
   "cell_type": "code",
   "execution_count": 7,
   "metadata": {
    "colab": {},
    "colab_type": "code",
    "id": "wwF3FMwqQC2h"
   },
   "outputs": [],
   "source": [
    "train_csv=pd.read_csv('/content/gdrive/My Drive/Kaggle/melanoma/csv/train.csv')"
   ]
  },
  {
   "cell_type": "markdown",
   "metadata": {
    "colab_type": "text",
    "id": "X9zimt18D2dy"
   },
   "source": [
    "# Distributions of Training Data"
   ]
  },
  {
   "cell_type": "markdown",
   "metadata": {
    "colab_type": "text",
    "id": "YhwW_DbZxD0q"
   },
   "source": [
    "Benign vs Malignant"
   ]
  },
  {
   "cell_type": "code",
   "execution_count": 8,
   "metadata": {
    "colab": {
     "base_uri": "https://localhost:8080/",
     "height": 147
    },
    "colab_type": "code",
    "id": "9qVtlNk8anr2",
    "outputId": "41763647-dccf-40e5-9ba9-e83e7134651c"
   },
   "outputs": [
    {
     "name": "stdout",
     "output_type": "stream",
     "text": [
      "Of 33126 samples, 98.2% are benign and 1.8% are malignant.\n",
      "\n"
     ]
    },
    {
     "data": {
      "text/html": [
       "<div>\n",
       "<style scoped>\n",
       "    .dataframe tbody tr th:only-of-type {\n",
       "        vertical-align: middle;\n",
       "    }\n",
       "\n",
       "    .dataframe tbody tr th {\n",
       "        vertical-align: top;\n",
       "    }\n",
       "\n",
       "    .dataframe thead th {\n",
       "        text-align: right;\n",
       "    }\n",
       "</style>\n",
       "<table border=\"1\" class=\"dataframe\">\n",
       "  <thead>\n",
       "    <tr style=\"text-align: right;\">\n",
       "      <th></th>\n",
       "      <th>benign_malignant</th>\n",
       "    </tr>\n",
       "  </thead>\n",
       "  <tbody>\n",
       "    <tr>\n",
       "      <th>benign</th>\n",
       "      <td>32542</td>\n",
       "    </tr>\n",
       "    <tr>\n",
       "      <th>malignant</th>\n",
       "      <td>584</td>\n",
       "    </tr>\n",
       "  </tbody>\n",
       "</table>\n",
       "</div>"
      ],
      "text/plain": [
       "           benign_malignant\n",
       "benign                32542\n",
       "malignant               584"
      ]
     },
     "execution_count": 8,
     "metadata": {
      "tags": []
     },
     "output_type": "execute_result"
    }
   ],
   "source": [
    "print(\"Of {} samples, {:.1%} are benign and {:.1%} are malignant.\\n\".format(\n",
    "    train_csv.shape[0],\n",
    "    train_csv[train_csv.benign_malignant == 'benign'].shape[0]/train_csv.shape[0],\n",
    "    train_csv[train_csv.benign_malignant == 'malignant'].shape[0]/train_csv.shape[0]))\n",
    "\n",
    "pd.DataFrame(train_csv.benign_malignant.value_counts())"
   ]
  },
  {
   "cell_type": "markdown",
   "metadata": {
    "colab_type": "text",
    "id": "709_6jsXaSXV"
   },
   "source": [
    "Total Samples vs Distinct Samples"
   ]
  },
  {
   "cell_type": "code",
   "execution_count": 9,
   "metadata": {
    "colab": {
     "base_uri": "https://localhost:8080/",
     "height": 312
    },
    "colab_type": "code",
    "id": "d9gRBko6aVao",
    "outputId": "096b0b6c-d24e-494c-aea7-bafa682342cc"
   },
   "outputs": [
    {
     "name": "stdout",
     "output_type": "stream",
     "text": [
      "The 33126 samples in training data only consist of 2056 unique patients. Each patient averages 16.1 samples.\n"
     ]
    },
    {
     "data": {
      "image/png": "[encoded data removed]",
      "text/plain": [
       "<Figure size 432x288 with 1 Axes>"
      ]
     },
     "metadata": {
      "needs_background": "light",
      "tags": []
     },
     "output_type": "display_data"
    }
   ],
   "source": [
    "num_uniques = train_csv.patient_id.nunique()\n",
    "\n",
    "print(\"The {} samples in training data only consist of {} unique patients.\\\n",
    " Each patient averages {:.1f} samples.\".format(\n",
    "     train_csv.shape[0], num_uniques, train_csv.shape[0]/num_uniques))\n",
    "gender_value_count_table = train_csv.patient_id.value_counts()\n",
    "\n",
    "plt.hist(gender_value_count_table, bins = 30)\n",
    "plt.title('Histogram of Number of Samples per Patient')\n",
    "plt.ylabel('Num Patients')\n",
    "plt.xlabel('Total Samples')\n",
    "plt.show()"
   ]
  },
  {
   "cell_type": "markdown",
   "metadata": {
    "colab_type": "text",
    "id": "YkLpajrJEBO-"
   },
   "source": [
    "Male to Female Ratio"
   ]
  },
  {
   "cell_type": "code",
   "execution_count": 10,
   "metadata": {
    "colab": {
     "base_uri": "https://localhost:8080/",
     "height": 866
    },
    "colab_type": "code",
    "id": "qHlRll6LB3qW",
    "outputId": "a2312621-ac67-47fd-9d3e-b02f635ec310"
   },
   "outputs": [
    {
     "name": "stdout",
     "output_type": "stream",
     "text": [
      "Of 33126 samples, 51.6% are male samples, 48.2% female samples. Of 2056 unique patients, 52.4% are male, 47.5% female.\n",
      "\n",
      "        Count_All_Samples\n",
      "male                17080\n",
      "female              15981\n",
      "NaN                    65\n",
      "\n",
      "\n",
      "        Count_Unique_Patients\n",
      "male                     1077\n",
      "female                    977\n",
      "NaN                         2\n",
      "\n",
      "\n"
     ]
    },
    {
     "data": {
      "image/png": "[encoded data removed]",
      "text/plain": [
       "<Figure size 432x288 with 1 Axes>"
      ]
     },
     "metadata": {
      "needs_background": "light",
      "tags": []
     },
     "output_type": "display_data"
    },
    {
     "data": {
      "image/png": "[encoded data removed]",
      "text/plain": [
       "<Figure size 432x288 with 1 Axes>"
      ]
     },
     "metadata": {
      "needs_background": "light",
      "tags": []
     },
     "output_type": "display_data"
    }
   ],
   "source": [
    "train_csv_unique_patients = train_csv.drop_duplicates(subset='patient_id', keep=\"first\")\n",
    "\n",
    "gender_table_all_samples = pd.DataFrame(train_csv.sex.value_counts(dropna = False)).rename(\n",
    "    columns = {'sex': 'Count_All_Samples'})\n",
    "\n",
    "gender_table_unique_patients = pd.DataFrame(train_csv_unique_patients.sex.value_counts(dropna = False)).rename(\n",
    "    columns = {'sex': 'Count_Unique_Patients'})\n",
    "\n",
    "\n",
    "print(\"Of {} samples, {:.1%} are male samples, {:.1%} female samples. Of {} unique patients,\\\n",
    " {:.1%} are male, {:.1%} female.\\n\".format(train_csv.shape[0],gender_table_all_samples.loc['male'][0]/train_csv.shape[0],\n",
    "                                           gender_table_all_samples.loc['female'][0]/train_csv.shape[0],\n",
    "                                           train_csv_unique_patients.shape[0],\n",
    "                                           gender_table_unique_patients.loc['male'][0]/train_csv_unique_patients.shape[0],\n",
    "                                           gender_table_unique_patients.loc['female'][0]/train_csv_unique_patients.shape[0]))\n",
    "\n",
    "print(gender_table_all_samples)\n",
    "print(\"\\n\")\n",
    "print(gender_table_unique_patients)\n",
    "print(\"\\n\")\n",
    "\n",
    "gender_table_all_samples.plot(kind = 'bar', title= 'Gender Distribution- All Samples')\n",
    "plt.ylabel('Count')\n",
    "plt.xlabel('Gender')\n",
    "plt.show()\n",
    "\n",
    "gender_table_unique_patients.plot(kind = 'bar', title= 'Gender Distribution- Unique Patients')\n",
    "plt.ylabel('Count')\n",
    "plt.xlabel('Gender')\n",
    "plt.show()"
   ]
  },
  {
   "cell_type": "markdown",
   "metadata": {
    "colab_type": "text",
    "id": "4wrxIsXGPEz_"
   },
   "source": [
    "Age and Length of Treatment"
   ]
  },
  {
   "cell_type": "code",
   "execution_count": 11,
   "metadata": {
    "colab": {
     "base_uri": "https://localhost:8080/",
     "height": 660
    },
    "colab_type": "code",
    "id": "hgunGSbcPDuR",
    "outputId": "9677eee4-c3d1-4121-eb4b-a969550d1a12"
   },
   "outputs": [
    {
     "name": "stdout",
     "output_type": "stream",
     "text": [
      "The mean age of patient at the time of sample is 48.9. The mean length of treatment is 3.7.\n"
     ]
    },
    {
     "name": "stderr",
     "output_type": "stream",
     "text": [
      "/usr/local/lib/python3.6/dist-packages/numpy/lib/histograms.py:839: RuntimeWarning: invalid value encountered in greater_equal\n",
      "  keep = (tmp_a >= first_edge)\n",
      "/usr/local/lib/python3.6/dist-packages/numpy/lib/histograms.py:840: RuntimeWarning: invalid value encountered in less_equal\n",
      "  keep &= (tmp_a <= last_edge)\n"
     ]
    },
    {
     "data": {
      "image/png": "[encoded data removed]",
      "text/plain": [
       "<Figure size 432x288 with 1 Axes>"
      ]
     },
     "metadata": {
      "needs_background": "light",
      "tags": []
     },
     "output_type": "display_data"
    },
    {
     "data": {
      "image/png": "[encoded data removed]",
      "text/plain": [
       "<Figure size 432x288 with 1 Axes>"
      ]
     },
     "metadata": {
      "needs_background": "light",
      "tags": []
     },
     "output_type": "display_data"
    }
   ],
   "source": [
    "patient_max_min_ages = train_csv.groupby(by = ['patient_id']).agg({'age_approx' : [np.min, np.max]})\n",
    "patient_treatment_length = patient_max_min_ages.age_approx.amax - patient_max_min_ages.age_approx.amin\n",
    "\n",
    "print(\"The mean age of patient at the time of sample is {:.1f}. The mean length of treatment is {:.1f}.\".format(\n",
    "    train_csv.age_approx.mean(), patient_treatment_length.mean()))\n",
    "\n",
    "plt.hist(train_csv.age_approx)\n",
    "plt.title('Histogram of Ages at Time of Sample')\n",
    "plt.ylabel('Num Patients')\n",
    "plt.xlabel('Age')\n",
    "plt.show()\n",
    "\n",
    "plt.hist(patient_treatment_length)\n",
    "plt.title('Histogram of Length of Treatment')\n",
    "plt.ylabel('Num Patients')\n",
    "plt.xlabel('Length of Treatment')\n",
    "plt.show()"
   ]
  },
  {
   "cell_type": "markdown",
   "metadata": {
    "colab_type": "text",
    "id": "J1C9uZvIRJ6t"
   },
   "source": [
    "Location on the Body"
   ]
  },
  {
   "cell_type": "code",
   "execution_count": 12,
   "metadata": {
    "colab": {
     "base_uri": "https://localhost:8080/",
     "height": 424
    },
    "colab_type": "code",
    "id": "4vWS8NSkRI9T",
    "outputId": "94a1e2e3-5e30-4609-e850-55abfd9c29de"
   },
   "outputs": [
    {
     "data": {
      "text/html": [
       "<div>\n",
       "<style scoped>\n",
       "    .dataframe tbody tr th:only-of-type {\n",
       "        vertical-align: middle;\n",
       "    }\n",
       "\n",
       "    .dataframe tbody tr th {\n",
       "        vertical-align: top;\n",
       "    }\n",
       "\n",
       "    .dataframe thead th {\n",
       "        text-align: right;\n",
       "    }\n",
       "</style>\n",
       "<table border=\"1\" class=\"dataframe\">\n",
       "  <thead>\n",
       "    <tr style=\"text-align: right;\">\n",
       "      <th></th>\n",
       "      <th>image_name</th>\n",
       "      <th>patient_id</th>\n",
       "      <th>sex</th>\n",
       "      <th>age_approx</th>\n",
       "      <th>anatom_site_general_challenge</th>\n",
       "      <th>diagnosis</th>\n",
       "      <th>benign_malignant</th>\n",
       "      <th>target</th>\n",
       "    </tr>\n",
       "  </thead>\n",
       "  <tbody>\n",
       "    <tr>\n",
       "      <th>0</th>\n",
       "      <td>ISIC_2637011</td>\n",
       "      <td>IP_7279968</td>\n",
       "      <td>male</td>\n",
       "      <td>45.0</td>\n",
       "      <td>head/neck</td>\n",
       "      <td>unknown</td>\n",
       "      <td>benign</td>\n",
       "      <td>0</td>\n",
       "    </tr>\n",
       "    <tr>\n",
       "      <th>1</th>\n",
       "      <td>ISIC_0015719</td>\n",
       "      <td>IP_3075186</td>\n",
       "      <td>female</td>\n",
       "      <td>45.0</td>\n",
       "      <td>upper extremity</td>\n",
       "      <td>unknown</td>\n",
       "      <td>benign</td>\n",
       "      <td>0</td>\n",
       "    </tr>\n",
       "    <tr>\n",
       "      <th>2</th>\n",
       "      <td>ISIC_0052212</td>\n",
       "      <td>IP_2842074</td>\n",
       "      <td>female</td>\n",
       "      <td>50.0</td>\n",
       "      <td>lower extremity</td>\n",
       "      <td>nevus</td>\n",
       "      <td>benign</td>\n",
       "      <td>0</td>\n",
       "    </tr>\n",
       "    <tr>\n",
       "      <th>3</th>\n",
       "      <td>ISIC_0068279</td>\n",
       "      <td>IP_6890425</td>\n",
       "      <td>female</td>\n",
       "      <td>45.0</td>\n",
       "      <td>head/neck</td>\n",
       "      <td>unknown</td>\n",
       "      <td>benign</td>\n",
       "      <td>0</td>\n",
       "    </tr>\n",
       "    <tr>\n",
       "      <th>4</th>\n",
       "      <td>ISIC_0074268</td>\n",
       "      <td>IP_8723313</td>\n",
       "      <td>female</td>\n",
       "      <td>55.0</td>\n",
       "      <td>upper extremity</td>\n",
       "      <td>unknown</td>\n",
       "      <td>benign</td>\n",
       "      <td>0</td>\n",
       "    </tr>\n",
       "    <tr>\n",
       "      <th>...</th>\n",
       "      <td>...</td>\n",
       "      <td>...</td>\n",
       "      <td>...</td>\n",
       "      <td>...</td>\n",
       "      <td>...</td>\n",
       "      <td>...</td>\n",
       "      <td>...</td>\n",
       "      <td>...</td>\n",
       "    </tr>\n",
       "    <tr>\n",
       "      <th>33121</th>\n",
       "      <td>ISIC_9999134</td>\n",
       "      <td>IP_6526534</td>\n",
       "      <td>male</td>\n",
       "      <td>50.0</td>\n",
       "      <td>torso</td>\n",
       "      <td>unknown</td>\n",
       "      <td>benign</td>\n",
       "      <td>0</td>\n",
       "    </tr>\n",
       "    <tr>\n",
       "      <th>33122</th>\n",
       "      <td>ISIC_9999320</td>\n",
       "      <td>IP_3650745</td>\n",
       "      <td>male</td>\n",
       "      <td>65.0</td>\n",
       "      <td>torso</td>\n",
       "      <td>unknown</td>\n",
       "      <td>benign</td>\n",
       "      <td>0</td>\n",
       "    </tr>\n",
       "    <tr>\n",
       "      <th>33123</th>\n",
       "      <td>ISIC_9999515</td>\n",
       "      <td>IP_2026598</td>\n",
       "      <td>male</td>\n",
       "      <td>20.0</td>\n",
       "      <td>lower extremity</td>\n",
       "      <td>unknown</td>\n",
       "      <td>benign</td>\n",
       "      <td>0</td>\n",
       "    </tr>\n",
       "    <tr>\n",
       "      <th>33124</th>\n",
       "      <td>ISIC_9999666</td>\n",
       "      <td>IP_7702038</td>\n",
       "      <td>male</td>\n",
       "      <td>50.0</td>\n",
       "      <td>lower extremity</td>\n",
       "      <td>unknown</td>\n",
       "      <td>benign</td>\n",
       "      <td>0</td>\n",
       "    </tr>\n",
       "    <tr>\n",
       "      <th>33125</th>\n",
       "      <td>ISIC_9999806</td>\n",
       "      <td>IP_0046310</td>\n",
       "      <td>male</td>\n",
       "      <td>45.0</td>\n",
       "      <td>torso</td>\n",
       "      <td>nevus</td>\n",
       "      <td>benign</td>\n",
       "      <td>0</td>\n",
       "    </tr>\n",
       "  </tbody>\n",
       "</table>\n",
       "<p>33126 rows × 8 columns</p>\n",
       "</div>"
      ],
      "text/plain": [
       "         image_name  patient_id     sex  ...  diagnosis benign_malignant target\n",
       "0      ISIC_2637011  IP_7279968    male  ...    unknown           benign      0\n",
       "1      ISIC_0015719  IP_3075186  female  ...    unknown           benign      0\n",
       "2      ISIC_0052212  IP_2842074  female  ...      nevus           benign      0\n",
       "3      ISIC_0068279  IP_6890425  female  ...    unknown           benign      0\n",
       "4      ISIC_0074268  IP_8723313  female  ...    unknown           benign      0\n",
       "...             ...         ...     ...  ...        ...              ...    ...\n",
       "33121  ISIC_9999134  IP_6526534    male  ...    unknown           benign      0\n",
       "33122  ISIC_9999320  IP_3650745    male  ...    unknown           benign      0\n",
       "33123  ISIC_9999515  IP_2026598    male  ...    unknown           benign      0\n",
       "33124  ISIC_9999666  IP_7702038    male  ...    unknown           benign      0\n",
       "33125  ISIC_9999806  IP_0046310    male  ...      nevus           benign      0\n",
       "\n",
       "[33126 rows x 8 columns]"
      ]
     },
     "execution_count": 12,
     "metadata": {
      "tags": []
     },
     "output_type": "execute_result"
    }
   ],
   "source": [
    "train_csv"
   ]
  },
  {
   "cell_type": "code",
   "execution_count": 13,
   "metadata": {
    "colab": {
     "base_uri": "https://localhost:8080/",
     "height": 383
    },
    "colab_type": "code",
    "id": "jqzY3iwiR1Zm",
    "outputId": "c35206de-8070-43ac-8fd4-bdb26d438031"
   },
   "outputs": [
    {
     "name": "stdout",
     "output_type": "stream",
     "text": [
      "Images are most commonly taken from the torso 50.9%, lower extremity 25.4%, or upper extremity 15.0%.\n"
     ]
    },
    {
     "data": {
      "image/png": "[encoded data removed]",
      "text/plain": [
       "<Figure size 432x288 with 1 Axes>"
      ]
     },
     "metadata": {
      "needs_background": "light",
      "tags": []
     },
     "output_type": "display_data"
    }
   ],
   "source": [
    "anatomy_table = train_csv.anatom_site_general_challenge.value_counts()\n",
    "\n",
    "\n",
    "print(\"Images are most commonly taken from the torso {:.1%}, lower extremity {:.1%}, or \\\n",
    "upper extremity {:.1%}.\".format(anatomy_table.loc['torso']/train_csv.shape[0],\n",
    "                            anatomy_table.loc['lower extremity']/train_csv.shape[0],\n",
    "                            anatomy_table.loc['upper extremity']/train_csv.shape[0]))\n",
    "\n",
    "anatomy_table.plot(kind = 'bar', title= 'Gender Distribution- All Samples')\n",
    "plt.ylabel('Count')\n",
    "plt.xlabel('Gender')\n",
    "plt.show()"
   ]
  }
 ],
 "metadata": {
  "colab": {
   "collapsed_sections": [],
   "name": "Melanoma_EDA.ipynb",
   "provenance": []
  },
  "kernelspec": {
   "display_name": "Python 3",
   "language": "python",
   "name": "python3"
  }
 },
 "nbformat": 4,
 "nbformat_minor": 1
}
