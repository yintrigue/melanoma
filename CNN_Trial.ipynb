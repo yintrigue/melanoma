{
  "nbformat": 4,
  "nbformat_minor": 0,
  "metadata": {
    "colab": {
      "name": "CNN Trial.ipynb",
      "provenance": [],
      "collapsed_sections": [],
      "authorship_tag": "ABX9TyPopUWZJ8re16NGnzdpJTxS",
      "include_colab_link": true
    },
    "kernelspec": {
      "name": "python3",
      "display_name": "Python 3"
    }
  },
  "cells": [
    {
      "cell_type": "markdown",
      "metadata": {
        "id": "view-in-github",
        "colab_type": "text"
      },
      "source": [
        "<a href=\"https://colab.research.google.com/github/yintrigue/melanoma/blob/master/CNN_Trial.ipynb\" target=\"_parent\"><img src=\"https://colab.research.google.com/assets/colab-badge.svg\" alt=\"Open In Colab\"/></a>"
      ]
    },
    {
      "cell_type": "code",
      "metadata": {
        "id": "wfiVQsuBPc5b",
        "colab_type": "code",
        "colab": {
          "base_uri": "https://localhost:8080/",
          "height": 35
        },
        "outputId": "bb956990-9e82-45ff-bcbd-b93e6f43a7eb"
      },
      "source": [
        "from google.colab import files\n",
        "from google.colab import drive\n",
        "import os\n",
        "\n",
        "# optional: mount Google Drive\n",
        "drive.mount('/content/gdrive')"
      ],
      "execution_count": 74,
      "outputs": [
        {
          "output_type": "stream",
          "text": [
            "Drive already mounted at /content/gdrive; to attempt to forcibly remount, call drive.mount(\"/content/gdrive\", force_remount=True).\n"
          ],
          "name": "stdout"
        }
      ]
    },
    {
      "cell_type": "code",
      "metadata": {
        "id": "Q7-fjD21PrLj",
        "colab_type": "code",
        "colab": {
          "base_uri": "https://localhost:8080/",
          "height": 52
        },
        "outputId": "1abdc807-fa5c-4e7e-f13d-b3c06a02b62a"
      },
      "source": [
        "%cd /content/gdrive/My Drive/w207\n",
        "!ls"
      ],
      "execution_count": 75,
      "outputs": [
        {
          "output_type": "stream",
          "text": [
            "/content/gdrive/My Drive/w207\n",
            "melanoma\n"
          ],
          "name": "stdout"
        }
      ]
    },
    {
      "cell_type": "code",
      "metadata": {
        "id": "aP7yQKf-ZXlZ",
        "colab_type": "code",
        "colab": {}
      },
      "source": [
        "!pip install python-resize-image"
      ],
      "execution_count": null,
      "outputs": []
    },
    {
      "cell_type": "code",
      "metadata": {
        "id": "_NbyEgeSQFLU",
        "colab_type": "code",
        "colab": {}
      },
      "source": [
        "import pandas as pd\n",
        "import numpy as np\n",
        "from pylab import *\n",
        "from PIL import Image\n",
        "from resizeimage import resizeimage\n",
        "from keras.datasets import cifar10\n",
        "from keras.models import Sequential\n",
        "from keras.layers import Dense, Dropout, Conv2D, MaxPool2D, Flatten\n",
        "from keras.utils import np_utils"
      ],
      "execution_count": 77,
      "outputs": []
    },
    {
      "cell_type": "code",
      "metadata": {
        "id": "wwF3FMwqQC2h",
        "colab_type": "code",
        "colab": {}
      },
      "source": [
        "train_csv=pd.read_csv('/content/gdrive/My Drive/Kaggle/melanoma/csv/train.csv')\n",
        "#test_csv=pd.read_csv('/content/gdrive/My Drive/Kaggle/melanoma/csv/test.csv')"
      ],
      "execution_count": 78,
      "outputs": []
    },
    {
      "cell_type": "code",
      "metadata": {
        "id": "AnsE2u04cw59",
        "colab_type": "code",
        "colab": {
          "base_uri": "https://localhost:8080/",
          "height": 415
        },
        "outputId": "16161063-bd40-4ed2-c028-375faacb05de"
      },
      "source": [
        "test_csv"
      ],
      "execution_count": 79,
      "outputs": [
        {
          "output_type": "execute_result",
          "data": {
            "text/html": [
              "<div>\n",
              "<style scoped>\n",
              "    .dataframe tbody tr th:only-of-type {\n",
              "        vertical-align: middle;\n",
              "    }\n",
              "\n",
              "    .dataframe tbody tr th {\n",
              "        vertical-align: top;\n",
              "    }\n",
              "\n",
              "    .dataframe thead th {\n",
              "        text-align: right;\n",
              "    }\n",
              "</style>\n",
              "<table border=\"1\" class=\"dataframe\">\n",
              "  <thead>\n",
              "    <tr style=\"text-align: right;\">\n",
              "      <th></th>\n",
              "      <th>image_name</th>\n",
              "      <th>patient_id</th>\n",
              "      <th>sex</th>\n",
              "      <th>age_approx</th>\n",
              "      <th>anatom_site_general_challenge</th>\n",
              "    </tr>\n",
              "  </thead>\n",
              "  <tbody>\n",
              "    <tr>\n",
              "      <th>0</th>\n",
              "      <td>ISIC_0052060</td>\n",
              "      <td>IP_3579794</td>\n",
              "      <td>male</td>\n",
              "      <td>70.0</td>\n",
              "      <td>NaN</td>\n",
              "    </tr>\n",
              "    <tr>\n",
              "      <th>1</th>\n",
              "      <td>ISIC_0052349</td>\n",
              "      <td>IP_7782715</td>\n",
              "      <td>male</td>\n",
              "      <td>40.0</td>\n",
              "      <td>lower extremity</td>\n",
              "    </tr>\n",
              "    <tr>\n",
              "      <th>2</th>\n",
              "      <td>ISIC_0058510</td>\n",
              "      <td>IP_7960270</td>\n",
              "      <td>female</td>\n",
              "      <td>55.0</td>\n",
              "      <td>torso</td>\n",
              "    </tr>\n",
              "    <tr>\n",
              "      <th>3</th>\n",
              "      <td>ISIC_0073313</td>\n",
              "      <td>IP_6375035</td>\n",
              "      <td>female</td>\n",
              "      <td>50.0</td>\n",
              "      <td>torso</td>\n",
              "    </tr>\n",
              "    <tr>\n",
              "      <th>4</th>\n",
              "      <td>ISIC_0073502</td>\n",
              "      <td>IP_0589375</td>\n",
              "      <td>female</td>\n",
              "      <td>45.0</td>\n",
              "      <td>lower extremity</td>\n",
              "    </tr>\n",
              "    <tr>\n",
              "      <th>...</th>\n",
              "      <td>...</td>\n",
              "      <td>...</td>\n",
              "      <td>...</td>\n",
              "      <td>...</td>\n",
              "      <td>...</td>\n",
              "    </tr>\n",
              "    <tr>\n",
              "      <th>10977</th>\n",
              "      <td>ISIC_9992485</td>\n",
              "      <td>IP_4152479</td>\n",
              "      <td>male</td>\n",
              "      <td>40.0</td>\n",
              "      <td>torso</td>\n",
              "    </tr>\n",
              "    <tr>\n",
              "      <th>10978</th>\n",
              "      <td>ISIC_9996992</td>\n",
              "      <td>IP_4890115</td>\n",
              "      <td>male</td>\n",
              "      <td>35.0</td>\n",
              "      <td>torso</td>\n",
              "    </tr>\n",
              "    <tr>\n",
              "      <th>10979</th>\n",
              "      <td>ISIC_9997917</td>\n",
              "      <td>IP_2852390</td>\n",
              "      <td>male</td>\n",
              "      <td>25.0</td>\n",
              "      <td>upper extremity</td>\n",
              "    </tr>\n",
              "    <tr>\n",
              "      <th>10980</th>\n",
              "      <td>ISIC_9998234</td>\n",
              "      <td>IP_8861963</td>\n",
              "      <td>male</td>\n",
              "      <td>65.0</td>\n",
              "      <td>lower extremity</td>\n",
              "    </tr>\n",
              "    <tr>\n",
              "      <th>10981</th>\n",
              "      <td>ISIC_9999302</td>\n",
              "      <td>IP_6214039</td>\n",
              "      <td>male</td>\n",
              "      <td>30.0</td>\n",
              "      <td>upper extremity</td>\n",
              "    </tr>\n",
              "  </tbody>\n",
              "</table>\n",
              "<p>10982 rows × 5 columns</p>\n",
              "</div>"
            ],
            "text/plain": [
              "         image_name  patient_id  ... age_approx  anatom_site_general_challenge\n",
              "0      ISIC_0052060  IP_3579794  ...       70.0                            NaN\n",
              "1      ISIC_0052349  IP_7782715  ...       40.0                lower extremity\n",
              "2      ISIC_0058510  IP_7960270  ...       55.0                          torso\n",
              "3      ISIC_0073313  IP_6375035  ...       50.0                          torso\n",
              "4      ISIC_0073502  IP_0589375  ...       45.0                lower extremity\n",
              "...             ...         ...  ...        ...                            ...\n",
              "10977  ISIC_9992485  IP_4152479  ...       40.0                          torso\n",
              "10978  ISIC_9996992  IP_4890115  ...       35.0                          torso\n",
              "10979  ISIC_9997917  IP_2852390  ...       25.0                upper extremity\n",
              "10980  ISIC_9998234  IP_8861963  ...       65.0                lower extremity\n",
              "10981  ISIC_9999302  IP_6214039  ...       30.0                upper extremity\n",
              "\n",
              "[10982 rows x 5 columns]"
            ]
          },
          "metadata": {
            "tags": []
          },
          "execution_count": 79
        }
      ]
    },
    {
      "cell_type": "code",
      "metadata": {
        "id": "FZJFCewhQKp1",
        "colab_type": "code",
        "colab": {}
      },
      "source": [
        "malignant_df=train_csv[train_csv['benign_malignant']=='malignant'][:500]\n",
        "benign_df=train_csv[train_csv['benign_malignant']=='benign'][:2000]\n",
        "\n",
        "malignant_df_test=train_csv[train_csv['benign_malignant']=='malignant'][500:]\n",
        "benign_df_test=train_csv[train_csv['benign_malignant']=='benign'][2000:4000]"
      ],
      "execution_count": 80,
      "outputs": []
    },
    {
      "cell_type": "code",
      "metadata": {
        "id": "2G78k4NXQKsf",
        "colab_type": "code",
        "colab": {}
      },
      "source": [
        "train_labels_mal=malignant_df['benign_malignant'].tolist()\n",
        "image_names_mal=malignant_df['image_name'].tolist()\n",
        "train_labels_ben=benign_df['benign_malignant'].tolist()\n",
        "image_names_ben=benign_df['image_name'].tolist()\n",
        "\n",
        "train_labels_mal_test=malignant_df_test['benign_malignant'].tolist()\n",
        "image_names_mal_test=malignant_df_test['image_name'].tolist()\n",
        "train_labels_ben_test=benign_df_test['benign_malignant'].tolist()\n",
        "image_names_ben_test=benign_df_test['image_name'].tolist()"
      ],
      "execution_count": 81,
      "outputs": []
    },
    {
      "cell_type": "code",
      "metadata": {
        "id": "EzYlQkFdZ96M",
        "colab_type": "code",
        "colab": {
          "base_uri": "https://localhost:8080/",
          "height": 35
        },
        "outputId": "5cad3085-de79-42f8-9db4-653a5959ec10"
      },
      "source": [
        "image_names_ben[1]"
      ],
      "execution_count": 82,
      "outputs": [
        {
          "output_type": "execute_result",
          "data": {
            "application/vnd.google.colaboratory.intrinsic": {
              "type": "string"
            },
            "text/plain": [
              "'ISIC_0015719'"
            ]
          },
          "metadata": {
            "tags": []
          },
          "execution_count": 82
        }
      ]
    },
    {
      "cell_type": "code",
      "metadata": {
        "id": "PUXnr8I-QKvt",
        "colab_type": "code",
        "colab": {}
      },
      "source": [
        "train_data=[]\n",
        "train_labels=[]\n",
        "num_mal=0\n",
        "num_benign=0\n",
        "for image in image_names_mal:\n",
        "  try:\n",
        "    im = Image.open(\"/content/gdrive/My Drive/Kaggle/melanoma/jpeg_compressed/q_60/train/{}.jpg\".format(image))\n",
        "    im=array(resizeimage.resize('thumbnail', img, [32, 32]))\n",
        "    train_data.append(im)\n",
        "    train_labels.append(1)\n",
        "    num_mal+=1\n",
        "  except:\n",
        "    pass\n",
        "\n",
        "for image in image_names_ben:\n",
        "    try:\n",
        "      im = Image.open(\"/content/gdrive/My Drive/Kaggle/melanoma/jpeg_compressed/q_60/train/{}.jpg\".format(image))\n",
        "      im=array(resizeimage.resize('thumbnail', img, [32, 32]))\n",
        "      train_data.append(im)\n",
        "      train_labels.append(0)\n",
        "      num_benign+=1\n",
        "    except:\n",
        "      pass"
      ],
      "execution_count": 83,
      "outputs": []
    },
    {
      "cell_type": "code",
      "metadata": {
        "id": "IOU-YT4pcc-Q",
        "colab_type": "code",
        "colab": {}
      },
      "source": [
        "test_data=[]\n",
        "test_labels=[]\n",
        "num_mal=0\n",
        "num_benign=0\n",
        "for image in image_names_mal_test:\n",
        "  try:\n",
        "    im = Image.open(\"/content/gdrive/My Drive/Kaggle/melanoma/jpeg_compressed/q_60/train/{}.jpg\".format(image))\n",
        "    im=array(resizeimage.resize('thumbnail', img, [32, 32]))\n",
        "    test_data.append(im)\n",
        "    test_labels.append(1)\n",
        "    num_mal+=1\n",
        "  except:\n",
        "    pass\n",
        "\n",
        "for image in image_names_ben_test:\n",
        "    try:\n",
        "      im = Image.open(\"/content/gdrive/My Drive/Kaggle/melanoma/jpeg_compressed/q_60/train/{}.jpg\".format(image))\n",
        "      im=array(resizeimage.resize('thumbnail', img, [32, 32]))\n",
        "      test_data.append(im)\n",
        "      test_labels.append(0)\n",
        "      num_benign+=1\n",
        "    except:\n",
        "      pass"
      ],
      "execution_count": 84,
      "outputs": []
    },
    {
      "cell_type": "code",
      "metadata": {
        "id": "5N4Bh0P9XRK8",
        "colab_type": "code",
        "colab": {}
      },
      "source": [
        "train_data=np.array(train_data)\n",
        "test_data=np.array(test_data)\n",
        "X_train = train_data.reshape(train_data.shape[0], 32, 32, 3)\n",
        "X_test = test_data.reshape(test_data.shape[0], 32, 32, 3)\n",
        "X_train = X_train.astype('float32')\n",
        "X_test = X_test.astype('float32')\n",
        "\n",
        "X_train /= 255\n",
        "X_test /= 255\n",
        "\n",
        "Y_train = np_utils.to_categorical(train_labels, 2)\n",
        "Y_test = np_utils.to_categorical(test_labels, 2)"
      ],
      "execution_count": 85,
      "outputs": []
    },
    {
      "cell_type": "code",
      "metadata": {
        "id": "Gc0Ywmx5b2ad",
        "colab_type": "code",
        "colab": {
          "base_uri": "https://localhost:8080/",
          "height": 121
        },
        "outputId": "18e6ac2a-dd61-4a86-8b95-feda72109833"
      },
      "source": [
        "# building a linear stack of layers with the sequential model\n",
        "model = Sequential()\n",
        "\n",
        "# convolutional layer\n",
        "model.add(Conv2D(50, kernel_size=(3,3), strides=(1,1), padding='same', activation='relu', input_shape=(32, 32, 3)))\n",
        "\n",
        "# convolutional layer\n",
        "model.add(Conv2D(75, kernel_size=(3,3), strides=(1,1), padding='same', activation='relu'))\n",
        "model.add(MaxPool2D(pool_size=(2,2)))\n",
        "model.add(Dropout(0.25))\n",
        "\n",
        "model.add(Conv2D(125, kernel_size=(3,3), strides=(1,1), padding='same', activation='relu'))\n",
        "model.add(MaxPool2D(pool_size=(2,2)))\n",
        "model.add(Dropout(0.25))\n",
        "\n",
        "# flatten output of conv\n",
        "model.add(Flatten())\n",
        "\n",
        "# hidden layer\n",
        "model.add(Dense(500, activation='relu'))\n",
        "model.add(Dropout(0.4))\n",
        "model.add(Dense(250, activation='relu'))\n",
        "model.add(Dropout(0.3))\n",
        "# output layer\n",
        "model.add(Dense(2, activation='softmax'))\n",
        "\n",
        "# compiling the sequential model\n",
        "model.compile(loss='categorical_crossentropy', metrics=['accuracy'], optimizer='adam')\n",
        "\n",
        "# training the model for 10 epochs\n",
        "model.fit(X_train, Y_train, batch_size=128, epochs=2, validation_data=(X_test, Y_test)) #need to update this to use test data\n"
      ],
      "execution_count": 86,
      "outputs": [
        {
          "output_type": "stream",
          "text": [
            "Train on 1223 samples, validate on 1003 samples\n",
            "Epoch 1/2\n",
            "1223/1223 [==============================] - 17s 14ms/step - loss: 0.6072 - accuracy: 0.7547 - val_loss: 0.3693 - val_accuracy: 0.9561\n",
            "Epoch 2/2\n",
            "1223/1223 [==============================] - 17s 14ms/step - loss: 0.4909 - accuracy: 0.8087 - val_loss: 0.3863 - val_accuracy: 0.9561\n"
          ],
          "name": "stdout"
        },
        {
          "output_type": "execute_result",
          "data": {
            "text/plain": [
              "<keras.callbacks.callbacks.History at 0x7f5e5c64f9e8>"
            ]
          },
          "metadata": {
            "tags": []
          },
          "execution_count": 86
        }
      ]
    },
    {
      "cell_type": "code",
      "metadata": {
        "id": "WKLoi4qBb79k",
        "colab_type": "code",
        "colab": {
          "base_uri": "https://localhost:8080/",
          "height": 35
        },
        "outputId": "92d74cf1-8412-4056-bc3f-ede43b47ae3d"
      },
      "source": [
        "model.predict(X_test)[0]"
      ],
      "execution_count": 87,
      "outputs": [
        {
          "output_type": "execute_result",
          "data": {
            "text/plain": [
              "array([0.7061839, 0.2938161], dtype=float32)"
            ]
          },
          "metadata": {
            "tags": []
          },
          "execution_count": 87
        }
      ]
    }
  ]
}