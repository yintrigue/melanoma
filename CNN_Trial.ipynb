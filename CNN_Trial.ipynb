{
  "nbformat": 4,
  "nbformat_minor": 0,
  "metadata": {
    "colab": {
      "name": "CNN Trial.ipynb",
      "provenance": [],
      "collapsed_sections": [],
      "authorship_tag": "ABX9TyONCNPqK5b2rxVubHmlrtRy",
      "include_colab_link": true
    },
    "kernelspec": {
      "name": "python3",
      "display_name": "Python 3"
    }
  },
  "cells": [
    {
      "cell_type": "markdown",
      "metadata": {
        "id": "view-in-github",
        "colab_type": "text"
      },
      "source": [
        "<a href=\"https://colab.research.google.com/github/yintrigue/melanoma/blob/master/CNN_Trial.ipynb\" target=\"_parent\"><img src=\"https://colab.research.google.com/assets/colab-badge.svg\" alt=\"Open In Colab\"/></a>"
      ]
    },
    {
      "cell_type": "code",
      "metadata": {
        "id": "wfiVQsuBPc5b",
        "colab_type": "code",
        "colab": {
          "base_uri": "https://localhost:8080/",
          "height": 35
        },
        "outputId": "54fb2424-2791-42c3-91fa-fe36b00fbf52"
      },
      "source": [
        "from google.colab import files\n",
        "from google.colab import drive\n",
        "import os\n",
        "\n",
        "# optional: mount Google Drive\n",
        "drive.mount('/content/gdrive')"
      ],
      "execution_count": 88,
      "outputs": [
        {
          "output_type": "stream",
          "text": [
            "Drive already mounted at /content/gdrive; to attempt to forcibly remount, call drive.mount(\"/content/gdrive\", force_remount=True).\n"
          ],
          "name": "stdout"
        }
      ]
    },
    {
      "cell_type": "code",
      "metadata": {
        "id": "Q7-fjD21PrLj",
        "colab_type": "code",
        "colab": {
          "base_uri": "https://localhost:8080/",
          "height": 52
        },
        "outputId": "1ab1ff9a-2981-4148-ff39-69d4b711290b"
      },
      "source": [
        "%cd /content/gdrive/My Drive/w207\n",
        "!ls"
      ],
      "execution_count": 89,
      "outputs": [
        {
          "output_type": "stream",
          "text": [
            "/content/gdrive/My Drive/w207\n",
            "melanoma\n"
          ],
          "name": "stdout"
        }
      ]
    },
    {
      "cell_type": "code",
      "metadata": {
        "id": "aP7yQKf-ZXlZ",
        "colab_type": "code",
        "colab": {
          "base_uri": "https://localhost:8080/",
          "height": 159
        },
        "outputId": "789bcc22-b35a-490f-f4e7-54e4094d46a8"
      },
      "source": [
        "!pip install python-resize-image"
      ],
      "execution_count": 90,
      "outputs": [
        {
          "output_type": "stream",
          "text": [
            "Requirement already satisfied: python-resize-image in /usr/local/lib/python3.6/dist-packages (1.1.19)\n",
            "Requirement already satisfied: Pillow>=5.1.0 in /usr/local/lib/python3.6/dist-packages (from python-resize-image) (7.0.0)\n",
            "Requirement already satisfied: requests>=2.19.1 in /usr/local/lib/python3.6/dist-packages (from python-resize-image) (2.23.0)\n",
            "Requirement already satisfied: urllib3!=1.25.0,!=1.25.1,<1.26,>=1.21.1 in /usr/local/lib/python3.6/dist-packages (from requests>=2.19.1->python-resize-image) (1.24.3)\n",
            "Requirement already satisfied: chardet<4,>=3.0.2 in /usr/local/lib/python3.6/dist-packages (from requests>=2.19.1->python-resize-image) (3.0.4)\n",
            "Requirement already satisfied: certifi>=2017.4.17 in /usr/local/lib/python3.6/dist-packages (from requests>=2.19.1->python-resize-image) (2020.6.20)\n",
            "Requirement already satisfied: idna<3,>=2.5 in /usr/local/lib/python3.6/dist-packages (from requests>=2.19.1->python-resize-image) (2.9)\n"
          ],
          "name": "stdout"
        }
      ]
    },
    {
      "cell_type": "code",
      "metadata": {
        "id": "_NbyEgeSQFLU",
        "colab_type": "code",
        "colab": {}
      },
      "source": [
        "import pandas as pd\n",
        "import numpy as np\n",
        "from pylab import *\n",
        "from PIL import Image\n",
        "from resizeimage import resizeimage\n",
        "from keras.datasets import cifar10\n",
        "from keras.models import Sequential\n",
        "from keras.layers import Dense, Dropout, Conv2D, MaxPool2D, Flatten\n",
        "from keras.utils import np_utils"
      ],
      "execution_count": 91,
      "outputs": []
    },
    {
      "cell_type": "code",
      "metadata": {
        "id": "wwF3FMwqQC2h",
        "colab_type": "code",
        "colab": {}
      },
      "source": [
        "train_csv=pd.read_csv('/content/gdrive/My Drive/Kaggle/melanoma/csv/train.csv')\n",
        "#test_csv=pd.read_csv('/content/gdrive/My Drive/Kaggle/melanoma/csv/test.csv') #ths dataset is not labelled"
      ],
      "execution_count": 92,
      "outputs": []
    },
    {
      "cell_type": "code",
      "metadata": {
        "id": "FZJFCewhQKp1",
        "colab_type": "code",
        "colab": {}
      },
      "source": [
        "malignant_df=train_csv[train_csv['benign_malignant']=='malignant'][:500]\n",
        "benign_df=train_csv[train_csv['benign_malignant']=='benign'][:2000]\n",
        "\n",
        "malignant_df_dev=train_csv[train_csv['benign_malignant']=='malignant'][500:]\n",
        "benign_df_dev=train_csv[train_csv['benign_malignant']=='benign'][2000:4000]"
      ],
      "execution_count": 93,
      "outputs": []
    },
    {
      "cell_type": "code",
      "metadata": {
        "id": "2G78k4NXQKsf",
        "colab_type": "code",
        "colab": {}
      },
      "source": [
        "train_labels_mal=malignant_df['benign_malignant'].tolist()\n",
        "image_names_mal=malignant_df['image_name'].tolist()\n",
        "train_labels_ben=benign_df['benign_malignant'].tolist()\n",
        "image_names_ben=benign_df['image_name'].tolist()\n",
        "\n",
        "train_labels_mal_dev=malignant_df_dev['benign_malignant'].tolist()\n",
        "image_names_mal_dev=malignant_df_dev['image_name'].tolist()\n",
        "train_labels_ben_dev=benign_df_dev['benign_malignant'].tolist()\n",
        "image_names_ben_dev=benign_df_dev['image_name'].tolist()"
      ],
      "execution_count": 94,
      "outputs": []
    },
    {
      "cell_type": "code",
      "metadata": {
        "id": "PUXnr8I-QKvt",
        "colab_type": "code",
        "colab": {}
      },
      "source": [
        "train_data=[]\n",
        "train_labels=[]\n",
        "num_mal=0\n",
        "num_benign=0\n",
        "for image in image_names_mal:\n",
        "  try:\n",
        "    im = Image.open(\"/content/gdrive/My Drive/Kaggle/melanoma/jpeg_compressed/q_60/train/{}.jpg\".format(image))\n",
        "    im=array(resizeimage.resize('thumbnail', img, [32, 32]))\n",
        "    train_data.append(im)\n",
        "    train_labels.append(1)\n",
        "    num_mal+=1\n",
        "  except:\n",
        "    pass\n",
        "\n",
        "for image in image_names_ben:\n",
        "    try:\n",
        "      im = Image.open(\"/content/gdrive/My Drive/Kaggle/melanoma/jpeg_compressed/q_60/train/{}.jpg\".format(image))\n",
        "      im=array(resizeimage.resize('thumbnail', img, [32, 32]))\n",
        "      train_data.append(im)\n",
        "      train_labels.append(0)\n",
        "      num_benign+=1\n",
        "    except:\n",
        "      pass"
      ],
      "execution_count": 95,
      "outputs": []
    },
    {
      "cell_type": "code",
      "metadata": {
        "id": "IOU-YT4pcc-Q",
        "colab_type": "code",
        "colab": {}
      },
      "source": [
        "dev_data=[]\n",
        "dev_labels=[]\n",
        "num_mal=0\n",
        "num_benign=0\n",
        "for image in image_names_mal_dev:\n",
        "  try:\n",
        "    im = Image.open(\"/content/gdrive/My Drive/Kaggle/melanoma/jpeg_compressed/q_60/train/{}.jpg\".format(image))\n",
        "    im=array(resizeimage.resize('thumbnail', img, [32, 32]))\n",
        "    dev_data.append(im)\n",
        "    dev_labels.append(1)\n",
        "    num_mal+=1\n",
        "  except:\n",
        "    pass\n",
        "\n",
        "for image in image_names_ben_dev:\n",
        "    try:\n",
        "      im = Image.open(\"/content/gdrive/My Drive/Kaggle/melanoma/jpeg_compressed/q_60/train/{}.jpg\".format(image))\n",
        "      im=array(resizeimage.resize('thumbnail', img, [32, 32]))\n",
        "      dev_data.append(im)\n",
        "      dev_labels.append(0)\n",
        "      num_benign+=1\n",
        "    except:\n",
        "      pass"
      ],
      "execution_count": 96,
      "outputs": []
    },
    {
      "cell_type": "code",
      "metadata": {
        "id": "5N4Bh0P9XRK8",
        "colab_type": "code",
        "colab": {}
      },
      "source": [
        "train_data=np.array(train_data)\n",
        "dev_data=np.array(dev_data)\n",
        "X_train = train_data.reshape(train_data.shape[0], 32, 32, 3)\n",
        "X_dev = dev_data.reshape(dev_data.shape[0], 32, 32, 3)\n",
        "X_train = X_train.astype('float32')\n",
        "X_dev = X_dev.astype('float32')\n",
        "\n",
        "X_train /= 255\n",
        "X_dev /= 255\n",
        "\n",
        "Y_train = np_utils.to_categorical(train_labels, 2)\n",
        "Y_dev = np_utils.to_categorical(dev_labels, 2)"
      ],
      "execution_count": 97,
      "outputs": []
    },
    {
      "cell_type": "code",
      "metadata": {
        "id": "Gc0Ywmx5b2ad",
        "colab_type": "code",
        "colab": {
          "base_uri": "https://localhost:8080/",
          "height": 121
        },
        "outputId": "5f26cb57-bd3b-4ac5-cef9-ff07094fb96b"
      },
      "source": [
        "# building a linear stack of layers with the sequential model\n",
        "model = Sequential()\n",
        "\n",
        "# convolutional layer\n",
        "model.add(Conv2D(50, kernel_size=(3,3), strides=(1,1), padding='same', activation='relu', input_shape=(32, 32, 3)))\n",
        "\n",
        "# convolutional layer\n",
        "model.add(Conv2D(75, kernel_size=(3,3), strides=(1,1), padding='same', activation='relu'))\n",
        "model.add(MaxPool2D(pool_size=(2,2)))\n",
        "model.add(Dropout(0.25))\n",
        "\n",
        "model.add(Conv2D(125, kernel_size=(3,3), strides=(1,1), padding='same', activation='relu'))\n",
        "model.add(MaxPool2D(pool_size=(2,2)))\n",
        "model.add(Dropout(0.25))\n",
        "\n",
        "# flatten output of conv\n",
        "model.add(Flatten())\n",
        "\n",
        "# hidden layer\n",
        "model.add(Dense(500, activation='relu'))\n",
        "model.add(Dropout(0.4))\n",
        "model.add(Dense(250, activation='relu'))\n",
        "model.add(Dropout(0.3))\n",
        "# output layer\n",
        "model.add(Dense(2, activation='softmax'))\n",
        "\n",
        "# compiling the sequential model\n",
        "model.compile(loss='categorical_crossentropy', metrics=['accuracy'], optimizer='adam')\n",
        "\n",
        "# training the model for 10 epochs\n",
        "model.fit(X_train, Y_train, batch_size=128, epochs=2, validation_data=(X_dev, Y_dev))\n"
      ],
      "execution_count": 98,
      "outputs": [
        {
          "output_type": "stream",
          "text": [
            "Train on 1223 samples, validate on 1003 samples\n",
            "Epoch 1/2\n",
            "1223/1223 [==============================] - 18s 14ms/step - loss: 0.6553 - accuracy: 0.7735 - val_loss: 0.3148 - val_accuracy: 0.9561\n",
            "Epoch 2/2\n",
            "1223/1223 [==============================] - 18s 14ms/step - loss: 0.5064 - accuracy: 0.8087 - val_loss: 0.3457 - val_accuracy: 0.9561\n"
          ],
          "name": "stdout"
        },
        {
          "output_type": "execute_result",
          "data": {
            "text/plain": [
              "<keras.callbacks.callbacks.History at 0x7f5e5aac3c50>"
            ]
          },
          "metadata": {
            "tags": []
          },
          "execution_count": 98
        }
      ]
    },
    {
      "cell_type": "code",
      "metadata": {
        "id": "WKLoi4qBb79k",
        "colab_type": "code",
        "colab": {
          "base_uri": "https://localhost:8080/",
          "height": 35
        },
        "outputId": "b7c51c53-d42a-400c-adce-667035dca491"
      },
      "source": [
        "model.predict(X_dev)[0]"
      ],
      "execution_count": 99,
      "outputs": [
        {
          "output_type": "execute_result",
          "data": {
            "text/plain": [
              "array([0.7411389 , 0.25886112], dtype=float32)"
            ]
          },
          "metadata": {
            "tags": []
          },
          "execution_count": 99
        }
      ]
    }
  ]
}