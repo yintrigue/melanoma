{
  "nbformat": 4,
  "nbformat_minor": 0,
  "metadata": {
    "colab": {
      "name": "Base Models.ipynb",
      "provenance": [],
      "collapsed_sections": [],
      "authorship_tag": "ABX9TyOCiwrluK9V41dt3Mu7ZoYl",
      "include_colab_link": true
    },
    "kernelspec": {
      "name": "python3",
      "display_name": "Python 3"
    }
  },
  "cells": [
    {
      "cell_type": "markdown",
      "metadata": {
        "id": "view-in-github",
        "colab_type": "text"
      },
      "source": [
        "<a href=\"https://colab.research.google.com/github/yintrigue/melanoma/blob/master/Base_Models.ipynb\" target=\"_parent\"><img src=\"https://colab.research.google.com/assets/colab-badge.svg\" alt=\"Open In Colab\"/></a>"
      ]
    },
    {
      "cell_type": "code",
      "metadata": {
        "id": "wfiVQsuBPc5b",
        "colab_type": "code",
        "colab": {
          "base_uri": "https://localhost:8080/",
          "height": 35
        },
        "outputId": "9a85dba0-9766-4306-cef4-833602fae29f"
      },
      "source": [
        "from google.colab import files\n",
        "from google.colab import drive\n",
        "import os\n",
        "\n",
        "# optional: mount Google Drive\n",
        "drive.mount('/content/gdrive')"
      ],
      "execution_count": 1,
      "outputs": [
        {
          "output_type": "stream",
          "text": [
            "Drive already mounted at /content/gdrive; to attempt to forcibly remount, call drive.mount(\"/content/gdrive\", force_remount=True).\n"
          ],
          "name": "stdout"
        }
      ]
    },
    {
      "cell_type": "code",
      "metadata": {
        "id": "Q7-fjD21PrLj",
        "colab_type": "code",
        "colab": {
          "base_uri": "https://localhost:8080/",
          "height": 52
        },
        "outputId": "1622a32d-e4ae-495c-ef9b-e4dca948f337"
      },
      "source": [
        "%cd /content/gdrive/My Drive/w207/\n",
        "!ls"
      ],
      "execution_count": 2,
      "outputs": [
        {
          "output_type": "stream",
          "text": [
            "/content/gdrive/My Drive/w207\n",
            "melanoma\n"
          ],
          "name": "stdout"
        }
      ]
    },
    {
      "cell_type": "code",
      "metadata": {
        "id": "gp26rUS7OFI8",
        "colab_type": "code",
        "colab": {
          "base_uri": "https://localhost:8080/",
          "height": 159
        },
        "outputId": "479aaf48-2f74-46e0-ed12-f504ef786af6"
      },
      "source": [
        "!pip install python-resize-image"
      ],
      "execution_count": 3,
      "outputs": [
        {
          "output_type": "stream",
          "text": [
            "Requirement already satisfied: python-resize-image in /usr/local/lib/python3.6/dist-packages (1.1.19)\n",
            "Requirement already satisfied: Pillow>=5.1.0 in /usr/local/lib/python3.6/dist-packages (from python-resize-image) (7.0.0)\n",
            "Requirement already satisfied: requests>=2.19.1 in /usr/local/lib/python3.6/dist-packages (from python-resize-image) (2.23.0)\n",
            "Requirement already satisfied: idna<3,>=2.5 in /usr/local/lib/python3.6/dist-packages (from requests>=2.19.1->python-resize-image) (2.9)\n",
            "Requirement already satisfied: certifi>=2017.4.17 in /usr/local/lib/python3.6/dist-packages (from requests>=2.19.1->python-resize-image) (2020.6.20)\n",
            "Requirement already satisfied: urllib3!=1.25.0,!=1.25.1,<1.26,>=1.21.1 in /usr/local/lib/python3.6/dist-packages (from requests>=2.19.1->python-resize-image) (1.24.3)\n",
            "Requirement already satisfied: chardet<4,>=3.0.2 in /usr/local/lib/python3.6/dist-packages (from requests>=2.19.1->python-resize-image) (3.0.4)\n"
          ],
          "name": "stdout"
        }
      ]
    },
    {
      "cell_type": "code",
      "metadata": {
        "id": "_NbyEgeSQFLU",
        "colab_type": "code",
        "colab": {
          "base_uri": "https://localhost:8080/",
          "height": 35
        },
        "outputId": "7fbf9c0f-5184-43a6-f497-fd1b28945fa0"
      },
      "source": [
        "import pandas as pd\n",
        "import numpy as np\n",
        "from pylab import *\n",
        "from PIL import Image\n",
        "from resizeimage import resizeimage\n",
        "from keras.datasets import cifar10\n",
        "from keras.models import Sequential\n",
        "from keras.layers import Dense, Dropout, Conv2D, MaxPool2D, Flatten\n",
        "from keras.utils import np_utils\n",
        "from sklearn.linear_model import LogisticRegression\n",
        "from sklearn.metrics import confusion_matrix\n",
        "from sklearn import metrics\n",
        "from sklearn.metrics import classification_report\n",
        "from sklearn.pipeline import make_pipeline\n",
        "from sklearn.preprocessing import StandardScaler\n",
        "from sklearn.svm import SVC"
      ],
      "execution_count": 4,
      "outputs": [
        {
          "output_type": "stream",
          "text": [
            "Using TensorFlow backend.\n"
          ],
          "name": "stderr"
        }
      ]
    },
    {
      "cell_type": "code",
      "metadata": {
        "id": "wwF3FMwqQC2h",
        "colab_type": "code",
        "colab": {}
      },
      "source": [
        "train_csv=pd.read_csv('/content/gdrive/My Drive/Kaggle/melanoma/csv/train.csv')"
      ],
      "execution_count": 5,
      "outputs": []
    },
    {
      "cell_type": "markdown",
      "metadata": {
        "id": "Z8qe0Gn2kK6f",
        "colab_type": "text"
      },
      "source": [
        "Above, you'll see we're only taking data from the training datset, that is because the test dataset is not labelled so it is not of use in a supervised model."
      ]
    },
    {
      "cell_type": "code",
      "metadata": {
        "id": "FZJFCewhQKp1",
        "colab_type": "code",
        "colab": {}
      },
      "source": [
        "malignant_df=train_csv[train_csv['benign_malignant']=='malignant'][:500]\n",
        "benign_df=train_csv[train_csv['benign_malignant']=='benign'][:500]\n",
        "\n"
      ],
      "execution_count": 6,
      "outputs": []
    },
    {
      "cell_type": "code",
      "metadata": {
        "id": "C9RA7bbVkboY",
        "colab_type": "code",
        "colab": {}
      },
      "source": [
        "malignant_df_dev=train_csv[train_csv['benign_malignant']=='malignant'][500:]\n",
        "benign_df_dev=train_csv[train_csv['benign_malignant']=='benign'][500:500+len(malignant_df_dev)]"
      ],
      "execution_count": 7,
      "outputs": []
    },
    {
      "cell_type": "code",
      "metadata": {
        "id": "2G78k4NXQKsf",
        "colab_type": "code",
        "colab": {}
      },
      "source": [
        "train_labels_mal=malignant_df['benign_malignant'].tolist()\n",
        "image_names_mal=malignant_df['image_name'].tolist()\n",
        "train_labels_ben=benign_df['benign_malignant'].tolist()\n",
        "image_names_ben=benign_df['image_name'].tolist()\n",
        "\n",
        "train_labels_mal_dev=malignant_df_dev['benign_malignant'].tolist()\n",
        "image_names_mal_dev=malignant_df_dev['image_name'].tolist()\n",
        "train_labels_ben_dev=benign_df_dev['benign_malignant'].tolist()\n",
        "image_names_ben_dev=benign_df_dev['image_name'].tolist()"
      ],
      "execution_count": 8,
      "outputs": []
    },
    {
      "cell_type": "code",
      "metadata": {
        "id": "jj-CWwhTbf7c",
        "colab_type": "code",
        "colab": {
          "base_uri": "https://localhost:8080/",
          "height": 35
        },
        "outputId": "1c96e11e-e5da-434f-8fd1-b99f515b6484"
      },
      "source": [
        "%cd /content/gdrive/My Drive/Kaggle/melanoma/jpeg_compressed/q_100/train/"
      ],
      "execution_count": 9,
      "outputs": [
        {
          "output_type": "stream",
          "text": [
            "/content/gdrive/.shortcut-targets-by-id/1qJ47SkRrR6gtmKvnBstwgxcG-abjnb3a/Kaggle/melanoma/jpeg_compressed/q_100/train\n"
          ],
          "name": "stdout"
        }
      ]
    },
    {
      "cell_type": "markdown",
      "metadata": {
        "id": "_cV_S4e7Zi6g",
        "colab_type": "text"
      },
      "source": [
        "The following cell shows an example of resizing an image to 32x32, this was done for processing purposes."
      ]
    },
    {
      "cell_type": "code",
      "metadata": {
        "id": "2UX90VM48Oyo",
        "colab_type": "code",
        "colab": {
          "base_uri": "https://localhost:8080/",
          "height": 49
        },
        "outputId": "ccfdd569-4f33-4ff7-ff74-1c20a4417205"
      },
      "source": [
        "img=Image.open(\"/content/gdrive/.shortcut-targets-by-id/1qJ47SkRrR6gtmKvnBstwgxcG-abjnb3a/Kaggle/melanoma/jpeg/train/ISIC_0015719.jpg\")\n",
        "img=img.resize((32, 32))\n",
        "img"
      ],
      "execution_count": 10,
      "outputs": [
        {
          "output_type": "execute_result",
          "data": {
            "image/png": "[encoded data removed]",
            "text/plain": [
              "<PIL.Image.Image image mode=RGB size=32x32 at 0x7FE1ED01CA20>"
            ]
          },
          "metadata": {
            "tags": []
          },
          "execution_count": 10
        }
      ]
    },
    {
      "cell_type": "code",
      "metadata": {
        "id": "9KIwCvyk-Qaq",
        "colab_type": "code",
        "colab": {
          "base_uri": "https://localhost:8080/",
          "height": 35
        },
        "outputId": "e54ddfc6-35ab-492e-a3ee-00c1179151ee"
      },
      "source": [
        "array(img).shape #shape of image"
      ],
      "execution_count": 11,
      "outputs": [
        {
          "output_type": "execute_result",
          "data": {
            "text/plain": [
              "(32, 32, 3)"
            ]
          },
          "metadata": {
            "tags": []
          },
          "execution_count": 11
        }
      ]
    },
    {
      "cell_type": "code",
      "metadata": {
        "id": "PUXnr8I-QKvt",
        "colab_type": "code",
        "colab": {}
      },
      "source": [
        "train_data=[]\n",
        "train_labels=[]\n",
        "num_mal=0\n",
        "num_benign=0\n",
        "for image in image_names_mal:\n",
        "  try:\n",
        "    im = Image.open(\"/content/gdrive/.shortcut-targets-by-id/1qJ47SkRrR6gtmKvnBstwgxcG-abjnb3a/Kaggle/melanoma/jpeg/train/{}.jpg\".format(image))\n",
        "    im=array(im.resize((32, 32)))\n",
        "    train_data.append(im)\n",
        "    train_labels.append(1)\n",
        "    num_mal+=1\n",
        "  except:\n",
        "    pass\n",
        "\n",
        "for image in image_names_ben:\n",
        "    try:\n",
        "      im = Image.open(\"/content/gdrive/.shortcut-targets-by-id/1qJ47SkRrR6gtmKvnBstwgxcG-abjnb3a/Kaggle/melanoma/jpeg/train/{}.jpg\".format(image)) #\"/content/gdrive/My Drive/Kaggle/melanoma/jpeg_compressed/q_60/train/{}.jpg\"\n",
        "      im=array(im.resize((32, 32)))\n",
        "      train_data.append(im)\n",
        "      train_labels.append(0)\n",
        "      num_benign+=1\n",
        "    except:\n",
        "      pass"
      ],
      "execution_count": 12,
      "outputs": []
    },
    {
      "cell_type": "code",
      "metadata": {
        "id": "IOU-YT4pcc-Q",
        "colab_type": "code",
        "colab": {}
      },
      "source": [
        "dev_data=[]\n",
        "dev_labels=[]\n",
        "num_mal=0\n",
        "num_benign=0\n",
        "for image in image_names_mal_dev:\n",
        "  try:\n",
        "    im = Image.open(\"/content/gdrive/.shortcut-targets-by-id/1qJ47SkRrR6gtmKvnBstwgxcG-abjnb3a/Kaggle/melanoma/jpeg/train/{}.jpg\".format(image))\n",
        "    im=array(im.resize((32, 32)))\n",
        "    dev_data.append(im)\n",
        "    dev_labels.append(1)\n",
        "    num_mal+=1\n",
        "  except:\n",
        "    pass\n",
        "\n",
        "for image in image_names_ben_dev:\n",
        "    try:\n",
        "      im = Image.open(\"/content/gdrive/.shortcut-targets-by-id/1qJ47SkRrR6gtmKvnBstwgxcG-abjnb3a/Kaggle/melanoma/jpeg/train/{}.jpg\".format(image))\n",
        "      im=array(im.resize((32, 32)))\n",
        "      dev_data.append(im)\n",
        "      dev_labels.append(0)\n",
        "      num_benign+=1\n",
        "    except:\n",
        "      pass"
      ],
      "execution_count": 13,
      "outputs": []
    },
    {
      "cell_type": "markdown",
      "metadata": {
        "id": "OHb1bQvcYBl0",
        "colab_type": "text"
      },
      "source": [
        "## Basic CNN Model with Keras:"
      ]
    },
    {
      "cell_type": "code",
      "metadata": {
        "id": "5N4Bh0P9XRK8",
        "colab_type": "code",
        "colab": {}
      },
      "source": [
        "train_data=array(train_data)\n",
        "dev_data=array(dev_data)\n",
        "X_train = train_data.reshape(train_data.shape[0], 32, 32, 3)\n",
        "X_dev = dev_data.reshape(dev_data.shape[0], 32, 32, 3)\n",
        "X_train = X_train.astype('float32')\n",
        "X_dev = X_dev.astype('float32')\n",
        "\n",
        "X_train /= 255\n",
        "X_dev /= 255\n",
        "\n",
        "Y_train = np_utils.to_categorical(train_labels, 2)\n",
        "Y_dev = np_utils.to_categorical(dev_labels, 2)"
      ],
      "execution_count": 14,
      "outputs": []
    },
    {
      "cell_type": "markdown",
      "metadata": {
        "id": "OxUa1K66i5Zz",
        "colab_type": "text"
      },
      "source": [
        "[1., 0.] indicates a benign mole\n",
        "\n",
        "[0., 1.] indicates melanoma"
      ]
    },
    {
      "cell_type": "code",
      "metadata": {
        "id": "Gc0Ywmx5b2ad",
        "colab_type": "code",
        "colab": {
          "base_uri": "https://localhost:8080/",
          "height": 399
        },
        "outputId": "20f2cce3-aa20-416c-f43c-d14a978b61db"
      },
      "source": [
        "#Sequential model\n",
        "model = Sequential()\n",
        "\n",
        "#convolutional layer\n",
        "model.add(Conv2D(50, kernel_size=(3,3), strides=(1,1), padding='same', activation='relu', input_shape=(32, 32, 3)))\n",
        "\n",
        "#convolutional layer\n",
        "model.add(Conv2D(75, kernel_size=(3,3), strides=(1,1), padding='same', activation='relu'))\n",
        "model.add(MaxPool2D(pool_size=(2,2)))\n",
        "model.add(Dropout(0.15))\n",
        "\n",
        "model.add(Conv2D(125, kernel_size=(3,3), strides=(1,1), padding='same', activation='relu'))\n",
        "model.add(MaxPool2D(pool_size=(2,2)))\n",
        "model.add(Dropout(0.15))\n",
        "\n",
        "# flatten output of convolutional layer\n",
        "model.add(Flatten())\n",
        "\n",
        "# hidden layer\n",
        "model.add(Dense(300, activation='relu'))\n",
        "model.add(Dropout(0.3))\n",
        "model.add(Dense(150, activation='relu'))\n",
        "model.add(Dropout(0.2))\n",
        "\n",
        "# output layer\n",
        "model.add(Dense(2, activation='softmax'))\n",
        "\n",
        "# compiling sequential model\n",
        "model.compile(loss='categorical_crossentropy', metrics=['accuracy'], optimizer='adam')\n",
        "\n",
        "# training the model with data\n",
        "model.fit(X_train, Y_train, batch_size=128, epochs=10, validation_data=(X_dev, Y_dev))\n"
      ],
      "execution_count": 15,
      "outputs": [
        {
          "output_type": "stream",
          "text": [
            "Train on 1000 samples, validate on 168 samples\n",
            "Epoch 1/10\n",
            "1000/1000 [==============================] - 12s 12ms/step - loss: 0.7572 - accuracy: 0.5040 - val_loss: 0.6934 - val_accuracy: 0.5000\n",
            "Epoch 2/10\n",
            "1000/1000 [==============================] - 11s 11ms/step - loss: 0.6926 - accuracy: 0.5330 - val_loss: 0.6891 - val_accuracy: 0.5000\n",
            "Epoch 3/10\n",
            "1000/1000 [==============================] - 11s 11ms/step - loss: 0.6856 - accuracy: 0.5270 - val_loss: 0.6748 - val_accuracy: 0.6310\n",
            "Epoch 4/10\n",
            "1000/1000 [==============================] - 11s 11ms/step - loss: 0.6749 - accuracy: 0.5740 - val_loss: 0.6595 - val_accuracy: 0.6250\n",
            "Epoch 5/10\n",
            "1000/1000 [==============================] - 11s 11ms/step - loss: 0.6373 - accuracy: 0.6450 - val_loss: 0.6669 - val_accuracy: 0.5655\n",
            "Epoch 6/10\n",
            "1000/1000 [==============================] - 11s 11ms/step - loss: 0.6475 - accuracy: 0.6210 - val_loss: 0.6434 - val_accuracy: 0.6310\n",
            "Epoch 7/10\n",
            "1000/1000 [==============================] - 11s 11ms/step - loss: 0.6114 - accuracy: 0.6870 - val_loss: 0.6074 - val_accuracy: 0.6726\n",
            "Epoch 8/10\n",
            "1000/1000 [==============================] - 11s 11ms/step - loss: 0.6045 - accuracy: 0.6820 - val_loss: 0.6044 - val_accuracy: 0.6548\n",
            "Epoch 9/10\n",
            "1000/1000 [==============================] - 11s 11ms/step - loss: 0.5473 - accuracy: 0.7400 - val_loss: 0.5712 - val_accuracy: 0.6607\n",
            "Epoch 10/10\n",
            "1000/1000 [==============================] - 11s 11ms/step - loss: 0.5445 - accuracy: 0.7220 - val_loss: 0.5870 - val_accuracy: 0.6786\n"
          ],
          "name": "stdout"
        },
        {
          "output_type": "execute_result",
          "data": {
            "text/plain": [
              "<keras.callbacks.callbacks.History at 0x7fe1e5f11c88>"
            ]
          },
          "metadata": {
            "tags": []
          },
          "execution_count": 15
        }
      ]
    },
    {
      "cell_type": "code",
      "metadata": {
        "id": "WKLoi4qBb79k",
        "colab_type": "code",
        "colab": {
          "base_uri": "https://localhost:8080/",
          "height": 35
        },
        "outputId": "8fcef2d2-e4b3-42c3-d73e-270001b4cc4d"
      },
      "source": [
        "model.predict(X_dev)[0]"
      ],
      "execution_count": 16,
      "outputs": [
        {
          "output_type": "execute_result",
          "data": {
            "text/plain": [
              "array([0.05643145, 0.9435686 ], dtype=float32)"
            ]
          },
          "metadata": {
            "tags": []
          },
          "execution_count": 16
        }
      ]
    },
    {
      "cell_type": "markdown",
      "metadata": {
        "id": "XphPRpAeYNOv",
        "colab_type": "text"
      },
      "source": [
        "## Basic Logistic Regression Model with Sklearn:"
      ]
    },
    {
      "cell_type": "code",
      "metadata": {
        "id": "BeDkOapKVwvy",
        "colab_type": "code",
        "colab": {}
      },
      "source": [
        "X_train_log=[]\n",
        "for i in X_train:\n",
        "  nsamples, nx, ny = i.shape\n",
        "  d2_train_dataset = i.reshape((nsamples*nx*ny))\n",
        "  X_train_log.append(d2_train_dataset)\n",
        "\n",
        "X_dev_log=[]\n",
        "for i in X_dev:\n",
        "  nsamples, nx, ny = i.shape\n",
        "  d2_train_dataset = i.reshape((nsamples*nx*ny))\n",
        "  X_dev_log.append(d2_train_dataset)"
      ],
      "execution_count": 17,
      "outputs": []
    },
    {
      "cell_type": "code",
      "metadata": {
        "id": "UC_Z4nEOVQPK",
        "colab_type": "code",
        "colab": {
          "base_uri": "https://localhost:8080/",
          "height": 104
        },
        "outputId": "358592cb-f4b1-47a6-9e03-4f127736ee37"
      },
      "source": [
        "log_reg=LogisticRegression(C=0.5, solver=\"liblinear\", multi_class=\"auto\")\n",
        "log_reg.fit(X_train_log,train_labels)"
      ],
      "execution_count": 18,
      "outputs": [
        {
          "output_type": "execute_result",
          "data": {
            "text/plain": [
              "LogisticRegression(C=0.5, class_weight=None, dual=False, fit_intercept=True,\n",
              "                   intercept_scaling=1, l1_ratio=None, max_iter=100,\n",
              "                   multi_class='auto', n_jobs=None, penalty='l2',\n",
              "                   random_state=None, solver='liblinear', tol=0.0001, verbose=0,\n",
              "                   warm_start=False)"
            ]
          },
          "metadata": {
            "tags": []
          },
          "execution_count": 18
        }
      ]
    },
    {
      "cell_type": "markdown",
      "metadata": {
        "id": "r6FZ62YgxdSL",
        "colab_type": "text"
      },
      "source": [
        "In the above, 1 indicates an image of melanoma while 0 indicates an image of a benign mole."
      ]
    },
    {
      "cell_type": "code",
      "metadata": {
        "id": "Bafr9a0BXL23",
        "colab_type": "code",
        "colab": {
          "base_uri": "https://localhost:8080/",
          "height": 173
        },
        "outputId": "bbc23139-3ed4-4fb0-c232-d734b2a9311a"
      },
      "source": [
        "prediction=log_reg.predict(X_dev_log) #predicting with dev_data\n",
        "target_names=[str(x) for x in list(np.unique(dev_labels))]\n",
        "print(classification_report(dev_labels, prediction, target_names=target_names)) #printing classification report to get key results"
      ],
      "execution_count": 19,
      "outputs": [
        {
          "output_type": "stream",
          "text": [
            "              precision    recall  f1-score   support\n",
            "\n",
            "           0       0.73      0.68      0.70        84\n",
            "           1       0.70      0.75      0.72        84\n",
            "\n",
            "    accuracy                           0.71       168\n",
            "   macro avg       0.72      0.71      0.71       168\n",
            "weighted avg       0.72      0.71      0.71       168\n",
            "\n"
          ],
          "name": "stdout"
        }
      ]
    },
    {
      "cell_type": "markdown",
      "metadata": {
        "id": "x2i4rjxQYqyz",
        "colab_type": "text"
      },
      "source": [
        "## Basic SVM Model with Sklearn"
      ]
    },
    {
      "cell_type": "code",
      "metadata": {
        "id": "kMUR3WvHYxMK",
        "colab_type": "code",
        "colab": {
          "base_uri": "https://localhost:8080/",
          "height": 191
        },
        "outputId": "0f05e96a-7285-4efd-8dd4-445fd955c4f0"
      },
      "source": [
        "svm = make_pipeline(StandardScaler(), SVC(gamma='auto'))\n",
        "svm.fit(X_train_log, train_labels)"
      ],
      "execution_count": 20,
      "outputs": [
        {
          "output_type": "execute_result",
          "data": {
            "text/plain": [
              "Pipeline(memory=None,\n",
              "         steps=[('standardscaler',\n",
              "                 StandardScaler(copy=True, with_mean=True, with_std=True)),\n",
              "                ('svc',\n",
              "                 SVC(C=1.0, break_ties=False, cache_size=200, class_weight=None,\n",
              "                     coef0=0.0, decision_function_shape='ovr', degree=3,\n",
              "                     gamma='auto', kernel='rbf', max_iter=-1, probability=False,\n",
              "                     random_state=None, shrinking=True, tol=0.001,\n",
              "                     verbose=False))],\n",
              "         verbose=False)"
            ]
          },
          "metadata": {
            "tags": []
          },
          "execution_count": 20
        }
      ]
    },
    {
      "cell_type": "code",
      "metadata": {
        "id": "zmVfiSuQZJTd",
        "colab_type": "code",
        "colab": {
          "base_uri": "https://localhost:8080/",
          "height": 173
        },
        "outputId": "19056349-ebba-4b13-de01-3dbadae47e11"
      },
      "source": [
        "prediction_svm=svm.predict(X_dev_log) #predicting with dev_data\n",
        "print(classification_report(dev_labels, prediction_svm, target_names=target_names)) #printing classification report to get key results"
      ],
      "execution_count": 21,
      "outputs": [
        {
          "output_type": "stream",
          "text": [
            "              precision    recall  f1-score   support\n",
            "\n",
            "           0       0.81      0.60      0.68        84\n",
            "           1       0.68      0.86      0.76        84\n",
            "\n",
            "    accuracy                           0.73       168\n",
            "   macro avg       0.74      0.73      0.72       168\n",
            "weighted avg       0.74      0.73      0.72       168\n",
            "\n"
          ],
          "name": "stdout"
        }
      ]
    },
    {
      "cell_type": "markdown",
      "metadata": {
        "id": "KZY40Ky6xqXk",
        "colab_type": "text"
      },
      "source": [
        "In the above, 1 indicates an image of melanoma while 0 indicates an image of a benign mole."
      ]
    }
  ]
}